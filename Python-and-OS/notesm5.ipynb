{
 "cells": [
  {
   "cell_type": "markdown",
   "metadata": {},
   "source": [
    "#Unit Testing\n",
    "Module 5 of the Course is migrated to a Jupyter notebook so it won't be messy in the file. Code examples, definitions will be defined here. Debating whether separate programs for this module will be added here as well or be created in a different file.\n",
    "\n",
    "(Just in case)\n",
    "Files included in the module:\n",
    "- NA"
   ]
  },
  {
   "cell_type": "code",
   "execution_count": null,
   "metadata": {
    "vscode": {
     "languageId": "plaintext"
    }
   },
   "outputs": [],
   "source": []
  }
 ],
 "metadata": {
  "language_info": {
   "name": "python"
  }
 },
 "nbformat": 4,
 "nbformat_minor": 2
}
